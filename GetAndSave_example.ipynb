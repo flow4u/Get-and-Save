{
 "cells": [
  {
   "cell_type": "markdown",
   "id": "c7e059c1-0fc7-4e9a-91ee-7314c169d724",
   "metadata": {},
   "source": [
    "# Get and Save\n",
    "\n",
    "This Jupyter Notebook demonstrates the GetAndSave.py capabilities.\n",
    "\n",
    "Run the Notebook"
   ]
  },
  {
   "cell_type": "code",
   "execution_count": 1,
   "id": "893973b7-3134-4040-bc9e-8f01615f29ea",
   "metadata": {},
   "outputs": [],
   "source": [
    "import GetAndSave as gs\n",
    "import pandas as pd\n",
    "import shutil"
   ]
  },
  {
   "cell_type": "code",
   "execution_count": 2,
   "id": "5c302cd9-2dbb-43de-b31b-525865031bb3",
   "metadata": {},
   "outputs": [
    {
     "data": {
      "text/plain": [
       "'./test_source - Copy'"
      ]
     },
     "execution_count": 2,
     "metadata": {},
     "output_type": "execute_result"
    }
   ],
   "source": [
    "# Step 0\n",
    "'''\n",
    "Reset the situation\n",
    "'''\n",
    "\n",
    "mydirs = ['source', 'test_source - Copy']\n",
    "\n",
    "for mydir in mydirs:\n",
    "    try:\n",
    "        shutil.rmtree(mydir)\n",
    "    except OSError as e:\n",
    "        print(\"Error: %s - %s.\" % (e.filename, e.strerror))\n",
    "        \n",
    "shutil.copytree(\"./test_source\", \"./test_source - Copy\")"
   ]
  },
  {
   "cell_type": "code",
   "execution_count": 3,
   "id": "55476c64-03fd-4e89-af95-8cdff2dd2b03",
   "metadata": {},
   "outputs": [
    {
     "name": "stdout",
     "output_type": "stream",
     "text": [
      "******************************************************************************************\n",
      "Moving all the uploads from <./test_source - Copy> to <./source> matching <test*.zip>\n",
      "------------------------------------------------------------------------------------------\n",
      "['./test_source - Copy/transfer_0001\\\\test_0001.zip', './test_source - Copy/transfer_0002\\\\test_0002.zip']\n"
     ]
    }
   ],
   "source": [
    "# Step 1\n",
    "\"\"\"\n",
    "Getting the data from the z:\\Inbox after upload to Workspace\n",
    "Save and extract a zip in the target folder\n",
    "\"\"\"\n",
    "\n",
    "source_folder = \"./test_source - Copy\"  # for myDRE replace with: 'z:/inbox'\n",
    "target_folder = \"./source\"\n",
    "partial = \"test\"\n",
    "extention = \"*.zip\"\n",
    "\n",
    "gs.print_title(\n",
    "    f\"Moving all the uploads from <{source_folder}> to <{target_folder}> matching <{partial}{extention}>\"\n",
    ")\n",
    "print(gs.move_upload(source_folder, partial, extention, target_folder))"
   ]
  },
  {
   "cell_type": "code",
   "execution_count": 4,
   "id": "cf6033a3-a9ba-4e29-8f08-4424a2cac79f",
   "metadata": {},
   "outputs": [
    {
     "name": "stdout",
     "output_type": "stream",
     "text": [
      "******************************************************************************************\n",
      "Unzipping all the files\n",
      "------------------------------------------------------------------------------------------\n"
     ]
    },
    {
     "data": {
      "text/plain": [
       "['./source\\\\test_0001.zip', './source\\\\test_0002.zip']"
      ]
     },
     "execution_count": 4,
     "metadata": {},
     "output_type": "execute_result"
    }
   ],
   "source": [
    "# Step 2\n",
    "\"\"\"\n",
    "Unpakking all zips\n",
    "\"\"\"\n",
    "\n",
    "gs.print_title(\"Unzipping all the files\")\n",
    "gs.find_unpack_zips(target_folder)"
   ]
  },
  {
   "cell_type": "code",
   "execution_count": 5,
   "id": "c4c4f81a-1c66-4d52-98eb-6d8ae4583f26",
   "metadata": {},
   "outputs": [
    {
     "name": "stdout",
     "output_type": "stream",
     "text": [
      "******************************************************************************************\n",
      "Choose folder by number\n",
      "------------------------------------------------------------------------------------------\n",
      "[1]  test_0002\t[2]  test_0001\t\n",
      "\n"
     ]
    },
    {
     "name": "stdin",
     "output_type": "stream",
     "text": [
      "Please choose Q(uit) or between 1 and 2:  1\n"
     ]
    },
    {
     "name": "stdout",
     "output_type": "stream",
     "text": [
      "\n",
      "\n",
      "\n",
      "******************************************************************************************\n",
      "Choose file by number\n",
      "------------------------------------------------------------------------------------------\n",
      "[1]  test_0002.csv\t\n",
      "\n"
     ]
    },
    {
     "name": "stdin",
     "output_type": "stream",
     "text": [
      "Please choose Q(uit) or between 1 and 1:  1\n"
     ]
    }
   ],
   "source": [
    "# Step 3\n",
    "\"\"\"\n",
    "Select the correct file and create Panda\n",
    "\"\"\"\n",
    "\n",
    "source_folder = gs.choose_dir_item(target_folder, \"folders\", partial)\n",
    "print('\\n'*2)\n",
    "file = gs.choose_dir_item(target_folder + '/' + source_folder, 'files', partial)\n",
    "\n",
    "df = pd.read_csv(target_folder + '/' + source_folder + '/'+ file)"
   ]
  },
  {
   "cell_type": "code",
   "execution_count": 6,
   "id": "5cc53326-234e-454c-9cd6-b46d6dce45cb",
   "metadata": {},
   "outputs": [
    {
     "name": "stdout",
     "output_type": "stream",
     "text": [
      "******************************************************************************************\n",
      "Save as CSV\n",
      "------------------------------------------------------------------------------------------\n",
      "saved: ./result/20210927-200839-output_file.csv\n",
      "\n",
      "\n",
      "\n",
      "\n",
      "******************************************************************************************\n",
      "Save as Excel\n",
      "------------------------------------------------------------------------------------------\n",
      "saved: ./result/20210927-200839-output_file.xlsx\n",
      "\n",
      "\n",
      "\n",
      "\n",
      "=========================================================================\n",
      "./result/test_0002/test_0002.csv has been processed\n",
      "=========================================================================\n"
     ]
    },
    {
     "name": "stdin",
     "output_type": "stream",
     "text": [
      "ENTER to finish \n"
     ]
    },
    {
     "name": "stdout",
     "output_type": "stream",
     "text": [
      "\n",
      "\n",
      "\n",
      "=========================================================================\n",
      "                              Have a nice day\n",
      "=========================================================================\n"
     ]
    }
   ],
   "source": [
    "# Step Z\n",
    "\"\"\"\n",
    "Save the Panda\n",
    "\"\"\"\n",
    "\n",
    "target_folder = \"./result\"\n",
    "file_name = \"output_file\"\n",
    "\n",
    "gs.print_title(\"Save as CSV\")\n",
    "gs.output_df(df, target_folder, file_name)\n",
    "print('\\n'*2)\n",
    "gs.print_title(\"Save as Excel\")\n",
    "gs.output_df(df, target_folder, file_name, \"xlsx\")\n",
    "print('\\n'*2)\n",
    "gs.finished(target_folder + '/' + source_folder + '/'+ file)"
   ]
  },
  {
   "cell_type": "code",
   "execution_count": null,
   "id": "e2e721b8-c381-43d4-8f66-f7249f127370",
   "metadata": {},
   "outputs": [],
   "source": []
  }
 ],
 "metadata": {
  "kernelspec": {
   "display_name": "Python 3 (ipykernel)",
   "language": "python",
   "name": "python3"
  },
  "language_info": {
   "codemirror_mode": {
    "name": "ipython",
    "version": 3
   },
   "file_extension": ".py",
   "mimetype": "text/x-python",
   "name": "python",
   "nbconvert_exporter": "python",
   "pygments_lexer": "ipython3",
   "version": "3.8.11"
  }
 },
 "nbformat": 4,
 "nbformat_minor": 5
}
